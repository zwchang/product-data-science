{
 "cells": [
  {
   "cell_type": "markdown",
   "metadata": {},
   "source": [
    "# Conversion Rate"
   ]
  },
  {
   "cell_type": "markdown",
   "metadata": {},
   "source": [
    "In this challenge, we build a model that predicts the conversion rate and based on the model, come up with ideas to improve revenue.\n",
    "\n",
    "Data include users who hit the website: whether they converted or not as well as some of their characteristics such as their country, the marketing channel, their age, whether they are\n",
    "repeat users and the number of pages visited during that session (as a proxy for site\n",
    "activity/time spent on site)."
   ]
  },
  {
   "cell_type": "code",
   "execution_count": 217,
   "metadata": {},
   "outputs": [],
   "source": [
    "# data wrangling and visulization\n",
    "\n",
    "import warnings\n",
    "warnings.simplefilter('ignore')\n",
    "import pandas as pd\n",
    "import numpy as np\n",
    "import seaborn as sns\n",
    "import matplotlib.pyplot as plt\n",
    "%matplotlib inline\n",
    "\n",
    "# model and metrics\n",
    "from sklearn.preprocessing import OneHotEncoder\n",
    "from sklearn.compose import make_column_transformer\n",
    "from sklearn.inspection import permutation_importance\n",
    "from sklearn.pipeline import make_pipeline\n",
    "from sklearn.model_selection import train_test_split\n",
    "from sklearn.ensemble import RandomForestClassifier\n",
    "from sklearn.metrics import accuracy_score, roc_auc_score, roc_curve, f1_score, confusion_matrix"
   ]
  },
  {
   "cell_type": "markdown",
   "metadata": {},
   "source": [
    "## 1. Data overview"
   ]
  },
  {
   "cell_type": "code",
   "execution_count": 13,
   "metadata": {},
   "outputs": [
    {
     "data": {
      "text/html": [
       "<div>\n",
       "<style scoped>\n",
       "    .dataframe tbody tr th:only-of-type {\n",
       "        vertical-align: middle;\n",
       "    }\n",
       "\n",
       "    .dataframe tbody tr th {\n",
       "        vertical-align: top;\n",
       "    }\n",
       "\n",
       "    .dataframe thead th {\n",
       "        text-align: right;\n",
       "    }\n",
       "</style>\n",
       "<table border=\"1\" class=\"dataframe\">\n",
       "  <thead>\n",
       "    <tr style=\"text-align: right;\">\n",
       "      <th></th>\n",
       "      <th>country</th>\n",
       "      <th>age</th>\n",
       "      <th>new_user</th>\n",
       "      <th>source</th>\n",
       "      <th>total_pages_visited</th>\n",
       "      <th>converted</th>\n",
       "    </tr>\n",
       "  </thead>\n",
       "  <tbody>\n",
       "    <tr>\n",
       "      <th>0</th>\n",
       "      <td>UK</td>\n",
       "      <td>25</td>\n",
       "      <td>1</td>\n",
       "      <td>Ads</td>\n",
       "      <td>1</td>\n",
       "      <td>0</td>\n",
       "    </tr>\n",
       "    <tr>\n",
       "      <th>1</th>\n",
       "      <td>US</td>\n",
       "      <td>23</td>\n",
       "      <td>1</td>\n",
       "      <td>Seo</td>\n",
       "      <td>5</td>\n",
       "      <td>0</td>\n",
       "    </tr>\n",
       "    <tr>\n",
       "      <th>2</th>\n",
       "      <td>US</td>\n",
       "      <td>28</td>\n",
       "      <td>1</td>\n",
       "      <td>Seo</td>\n",
       "      <td>4</td>\n",
       "      <td>0</td>\n",
       "    </tr>\n",
       "    <tr>\n",
       "      <th>3</th>\n",
       "      <td>China</td>\n",
       "      <td>39</td>\n",
       "      <td>1</td>\n",
       "      <td>Seo</td>\n",
       "      <td>5</td>\n",
       "      <td>0</td>\n",
       "    </tr>\n",
       "    <tr>\n",
       "      <th>4</th>\n",
       "      <td>US</td>\n",
       "      <td>30</td>\n",
       "      <td>1</td>\n",
       "      <td>Seo</td>\n",
       "      <td>6</td>\n",
       "      <td>0</td>\n",
       "    </tr>\n",
       "  </tbody>\n",
       "</table>\n",
       "</div>"
      ],
      "text/plain": [
       "  country  age  new_user source  total_pages_visited  converted\n",
       "0      UK   25         1    Ads                    1          0\n",
       "1      US   23         1    Seo                    5          0\n",
       "2      US   28         1    Seo                    4          0\n",
       "3   China   39         1    Seo                    5          0\n",
       "4      US   30         1    Seo                    6          0"
      ]
     },
     "execution_count": 13,
     "metadata": {},
     "output_type": "execute_result"
    }
   ],
   "source": [
    "df = pd.read_csv('conversion_data.csv')\n",
    "df.head()"
   ]
  },
  {
   "cell_type": "markdown",
   "metadata": {},
   "source": [
    "As seen in the above table that the feature \"converted\" which we will later build model to predict depend on 3 categorical features (country, new_user, source) and 2 numerical features (age, total_pages_visited)."
   ]
  },
  {
   "cell_type": "code",
   "execution_count": 3,
   "metadata": {},
   "outputs": [
    {
     "name": "stdout",
     "output_type": "stream",
     "text": [
      "<class 'pandas.core.frame.DataFrame'>\n",
      "RangeIndex: 316200 entries, 0 to 316199\n",
      "Data columns (total 6 columns):\n",
      " #   Column               Non-Null Count   Dtype \n",
      "---  ------               --------------   ----- \n",
      " 0   country              316200 non-null  object\n",
      " 1   age                  316200 non-null  int64 \n",
      " 2   new_user             316200 non-null  int64 \n",
      " 3   source               316200 non-null  object\n",
      " 4   total_pages_visited  316200 non-null  int64 \n",
      " 5   converted            316200 non-null  int64 \n",
      "dtypes: int64(4), object(2)\n",
      "memory usage: 14.5+ MB\n"
     ]
    }
   ],
   "source": [
    "df.info()"
   ]
  },
  {
   "cell_type": "markdown",
   "metadata": {},
   "source": [
    "We noticed that there is no missing values."
   ]
  },
  {
   "cell_type": "code",
   "execution_count": 4,
   "metadata": {},
   "outputs": [
    {
     "data": {
      "text/html": [
       "<div>\n",
       "<style scoped>\n",
       "    .dataframe tbody tr th:only-of-type {\n",
       "        vertical-align: middle;\n",
       "    }\n",
       "\n",
       "    .dataframe tbody tr th {\n",
       "        vertical-align: top;\n",
       "    }\n",
       "\n",
       "    .dataframe thead th {\n",
       "        text-align: right;\n",
       "    }\n",
       "</style>\n",
       "<table border=\"1\" class=\"dataframe\">\n",
       "  <thead>\n",
       "    <tr style=\"text-align: right;\">\n",
       "      <th></th>\n",
       "      <th>age</th>\n",
       "      <th>new_user</th>\n",
       "      <th>total_pages_visited</th>\n",
       "      <th>converted</th>\n",
       "    </tr>\n",
       "  </thead>\n",
       "  <tbody>\n",
       "    <tr>\n",
       "      <th>count</th>\n",
       "      <td>316200.000000</td>\n",
       "      <td>316200.000000</td>\n",
       "      <td>316200.000000</td>\n",
       "      <td>316200.000000</td>\n",
       "    </tr>\n",
       "    <tr>\n",
       "      <th>mean</th>\n",
       "      <td>30.569858</td>\n",
       "      <td>0.685465</td>\n",
       "      <td>4.872966</td>\n",
       "      <td>0.032258</td>\n",
       "    </tr>\n",
       "    <tr>\n",
       "      <th>std</th>\n",
       "      <td>8.271802</td>\n",
       "      <td>0.464331</td>\n",
       "      <td>3.341104</td>\n",
       "      <td>0.176685</td>\n",
       "    </tr>\n",
       "    <tr>\n",
       "      <th>min</th>\n",
       "      <td>17.000000</td>\n",
       "      <td>0.000000</td>\n",
       "      <td>1.000000</td>\n",
       "      <td>0.000000</td>\n",
       "    </tr>\n",
       "    <tr>\n",
       "      <th>25%</th>\n",
       "      <td>24.000000</td>\n",
       "      <td>0.000000</td>\n",
       "      <td>2.000000</td>\n",
       "      <td>0.000000</td>\n",
       "    </tr>\n",
       "    <tr>\n",
       "      <th>50%</th>\n",
       "      <td>30.000000</td>\n",
       "      <td>1.000000</td>\n",
       "      <td>4.000000</td>\n",
       "      <td>0.000000</td>\n",
       "    </tr>\n",
       "    <tr>\n",
       "      <th>75%</th>\n",
       "      <td>36.000000</td>\n",
       "      <td>1.000000</td>\n",
       "      <td>7.000000</td>\n",
       "      <td>0.000000</td>\n",
       "    </tr>\n",
       "    <tr>\n",
       "      <th>max</th>\n",
       "      <td>123.000000</td>\n",
       "      <td>1.000000</td>\n",
       "      <td>29.000000</td>\n",
       "      <td>1.000000</td>\n",
       "    </tr>\n",
       "  </tbody>\n",
       "</table>\n",
       "</div>"
      ],
      "text/plain": [
       "                 age       new_user  total_pages_visited      converted\n",
       "count  316200.000000  316200.000000        316200.000000  316200.000000\n",
       "mean       30.569858       0.685465             4.872966       0.032258\n",
       "std         8.271802       0.464331             3.341104       0.176685\n",
       "min        17.000000       0.000000             1.000000       0.000000\n",
       "25%        24.000000       0.000000             2.000000       0.000000\n",
       "50%        30.000000       1.000000             4.000000       0.000000\n",
       "75%        36.000000       1.000000             7.000000       0.000000\n",
       "max       123.000000       1.000000            29.000000       1.000000"
      ]
     },
     "execution_count": 4,
     "metadata": {},
     "output_type": "execute_result"
    }
   ],
   "source": [
    "df.describe()"
   ]
  },
  {
   "cell_type": "code",
   "execution_count": 15,
   "metadata": {},
   "outputs": [
    {
     "data": {
      "text/plain": [
       "US         178091\n",
       "China       76602\n",
       "UK          48449\n",
       "Germany     13055\n",
       "Name: country, dtype: int64"
      ]
     },
     "execution_count": 15,
     "metadata": {},
     "output_type": "execute_result"
    }
   ],
   "source": [
    "df['country'].value_counts()"
   ]
  },
  {
   "cell_type": "code",
   "execution_count": 16,
   "metadata": {},
   "outputs": [
    {
     "data": {
      "text/plain": [
       "Seo       155039\n",
       "Ads        88739\n",
       "Direct     72419\n",
       "Name: source, dtype: int64"
      ]
     },
     "execution_count": 16,
     "metadata": {},
     "output_type": "execute_result"
    }
   ],
   "source": [
    "df['source'].value_counts()"
   ]
  },
  {
   "cell_type": "markdown",
   "metadata": {},
   "source": [
    "Some quick observations:\n",
    "* This is probably a US website, although Chinese user base is also large.\n",
    "* user base is pretty young, but the maximum age is 123 yrs old which might be outliers.\n",
    "* conversion rate is about 3% which is the industry standard. "
   ]
  },
  {
   "cell_type": "markdown",
   "metadata": {},
   "source": [
    "### Outliers"
   ]
  },
  {
   "cell_type": "code",
   "execution_count": 6,
   "metadata": {},
   "outputs": [
    {
     "data": {
      "image/png": "[encoded data removed]",
      "text/plain": [
       "<Figure size 216x288 with 1 Axes>"
      ]
     },
     "metadata": {
      "needs_background": "light"
     },
     "output_type": "display_data"
    }
   ],
   "source": [
    "# Box plot of the feature \"age\"\n",
    "\n",
    "df['age'].plot.box(figsize=(3, 4))\n",
    "plt.show()"
   ]
  },
  {
   "cell_type": "markdown",
   "metadata": {},
   "source": [
    "From this plot we see that the majority users are below the age 80."
   ]
  },
  {
   "cell_type": "code",
   "execution_count": 9,
   "metadata": {},
   "outputs": [
    {
     "data": {
      "text/plain": [
       "array([ 17,  18,  19,  20,  21,  22,  23,  24,  25,  26,  27,  28,  29,\n",
       "        30,  31,  32,  33,  34,  35,  36,  37,  38,  39,  40,  41,  42,\n",
       "        43,  44,  45,  46,  47,  48,  49,  50,  51,  52,  53,  54,  55,\n",
       "        56,  57,  58,  59,  60,  61,  62,  63,  64,  65,  66,  67,  68,\n",
       "        69,  70,  72,  73,  77,  79, 111, 123])"
      ]
     },
     "execution_count": 9,
     "metadata": {},
     "output_type": "execute_result"
    }
   ],
   "source": [
    "# To be precise\n",
    "\n",
    "np.sort(df['age'].unique())"
   ]
  },
  {
   "cell_type": "code",
   "execution_count": 14,
   "metadata": {},
   "outputs": [
    {
     "name": "stdout",
     "output_type": "stream",
     "text": [
      "Data shape:  (316197, 6)\n"
     ]
    }
   ],
   "source": [
    "# Remove outliers\n",
    "\n",
    "df = df[df['age']<79]\n",
    "print(\"Data shape: \", df.shape)"
   ]
  },
  {
   "cell_type": "markdown",
   "metadata": {},
   "source": [
    "## 2. Exploratory data analysis"
   ]
  },
  {
   "cell_type": "markdown",
   "metadata": {},
   "source": [
    "As a prerequisite of all DS projects, we first do some EDA to get a sense of the data."
   ]
  },
  {
   "cell_type": "code",
   "execution_count": 27,
   "metadata": {},
   "outputs": [
    {
     "name": "stdout",
     "output_type": "stream",
     "text": [
      "   country  converted\n",
      "1  Germany   0.062428\n",
      "2       UK   0.052612\n",
      "3       US   0.037801\n",
      "0    China   0.001332\n"
     ]
    },
    {
     "data": {
      "image/png": "[encoded data removed]",
      "text/plain": [
       "<Figure size 576x432 with 1 Axes>"
      ]
     },
     "metadata": {
      "needs_background": "light"
     },
     "output_type": "display_data"
    }
   ],
   "source": [
    "# Conversion rate for different countries\n",
    "\n",
    "df_country = df[['country', 'converted']].groupby('country').mean().reset_index().sort_values(by='converted', ascending=False)\n",
    "print(df_country)\n",
    "\n",
    "fig, ax = plt.subplots(figsize=(8, 6))\n",
    "sns.barplot(x='country', y='converted', data=df, ax=ax)\n",
    "ax.set_title('Mean conversion rate per country')\n",
    "plt.show()"
   ]
  },
  {
   "cell_type": "markdown",
   "metadata": {},
   "source": [
    "The conversion rate in Chinese market is exceptionally low compared to others."
   ]
  },
  {
   "cell_type": "code",
   "execution_count": 29,
   "metadata": {},
   "outputs": [
    {
     "name": "stdout",
     "output_type": "stream",
     "text": [
      "   new_user  converted\n",
      "0         0   0.071983\n",
      "1         1   0.014021\n"
     ]
    },
    {
     "data": {
      "image/png": "[encoded data removed]",
      "text/plain": [
       "<Figure size 288x432 with 1 Axes>"
      ]
     },
     "metadata": {
      "needs_background": "light"
     },
     "output_type": "display_data"
    }
   ],
   "source": [
    "# Conversion rate for different users\n",
    "\n",
    "df_user = df[['new_user', 'converted']].groupby('new_user').mean().reset_index().sort_values(by='converted', ascending=False)\n",
    "print(df_user)\n",
    "\n",
    "fig, ax = plt.subplots(figsize=(4, 6))\n",
    "sns.barplot(x='new_user', y='converted', data=df, ax=ax)\n",
    "ax.set_title('Mean conversion rate per new_user')\n",
    "plt.show()"
   ]
  },
  {
   "cell_type": "markdown",
   "metadata": {},
   "source": [
    "Apparently the old users tend to have much higher conversion rate."
   ]
  },
  {
   "cell_type": "code",
   "execution_count": 31,
   "metadata": {},
   "outputs": [
    {
     "name": "stdout",
     "output_type": "stream",
     "text": [
      "   source  converted\n",
      "0     Ads   0.034472\n",
      "2     Seo   0.032888\n",
      "1  Direct   0.028169\n"
     ]
    },
    {
     "data": {
      "image/png": "[encoded data removed]",
      "text/plain": [
       "<Figure size 432x432 with 1 Axes>"
      ]
     },
     "metadata": {
      "needs_background": "light"
     },
     "output_type": "display_data"
    }
   ],
   "source": [
    "# Conversion rate for different source\n",
    "\n",
    "df_source = df[['source', 'converted']].groupby('source').mean().reset_index().sort_values(by='converted', ascending=False)\n",
    "print(df_source)\n",
    "\n",
    "fig, ax = plt.subplots(figsize=(6, 6))\n",
    "sns.barplot(x='source', y='converted', data=df, ax=ax)\n",
    "ax.set_title('Mean conversion rate per source')\n",
    "plt.show()"
   ]
  },
  {
   "cell_type": "markdown",
   "metadata": {},
   "source": [
    "Seems the source doesn't matter much."
   ]
  },
  {
   "cell_type": "code",
   "execution_count": 44,
   "metadata": {},
   "outputs": [
    {
     "data": {
      "image/png": "[encoded data removed]",
      "text/plain": [
       "<Figure size 432x288 with 1 Axes>"
      ]
     },
     "metadata": {
      "needs_background": "light"
     },
     "output_type": "display_data"
    }
   ],
   "source": [
    "# Conversion rate versus age\n",
    "\n",
    "df_age = df[['age', 'converted']].groupby('age').mean().reset_index()\n",
    "# print(df_age)\n",
    "\n",
    "# fig, ax = plt.subplots(figsize=(8, 6))\n",
    "# ax.plot(df_age['age'], df_age['converted'], '.-')\n",
    "ax = df_age.plot(x='age', y='converted', style=['.-'], linewidth=1.0, legend=None, grid=True) # you can also change color at style option\n",
    "ax.set_title('Mean conversion rate versus age')\n",
    "ax.set_xlabel('age')\n",
    "ax.set_ylabel('Mean conversion rate')\n",
    "ax.grid(True)\n",
    "plt.show()"
   ]
  },
  {
   "cell_type": "markdown",
   "metadata": {},
   "source": [
    "Conversion rate decreases with age."
   ]
  },
  {
   "cell_type": "code",
   "execution_count": 45,
   "metadata": {},
   "outputs": [
    {
     "data": {
      "image/png": "[encoded data removed]",
      "text/plain": [
       "<Figure size 432x288 with 1 Axes>"
      ]
     },
     "metadata": {
      "needs_background": "light"
     },
     "output_type": "display_data"
    }
   ],
   "source": [
    "# Conversion rate versus total_pages_visited\n",
    "\n",
    "df_page = df[['total_pages_visited', 'converted']].groupby('total_pages_visited').mean().reset_index()\n",
    "# print(df_age)\n",
    "\n",
    "# fig, ax = plt.subplots(figsize=(8, 6))\n",
    "# ax.plot(df_age['total_pages_visited'], df_age['converted'], '.-')\n",
    "ax = df_page.plot(x='total_pages_visited', y='converted', style=['.-'], linewidth=1.0, legend=None, grid=True) # you can also change color at style option\n",
    "ax.set_title('Mean conversion rate versus total_pages_visited')\n",
    "ax.set_xlabel('total_pages_visited')\n",
    "ax.set_ylabel('Mean conversion rate')\n",
    "ax.grid(True)\n",
    "plt.show()"
   ]
  },
  {
   "cell_type": "markdown",
   "metadata": {},
   "source": [
    "Definitely spending more time on the site implies higher probability of conversion."
   ]
  },
  {
   "cell_type": "markdown",
   "metadata": {},
   "source": [
    "## 3. Feature encoding"
   ]
  },
  {
   "cell_type": "markdown",
   "metadata": {},
   "source": [
    "Now we convert 2 nominal variable: source and country to numerical using feature encoding."
   ]
  },
  {
   "cell_type": "code",
   "execution_count": 46,
   "metadata": {},
   "outputs": [],
   "source": [
    "# Instantiate OneHotEncoder\n",
    "\n",
    "ohe = OneHotEncoder(sparse = False)"
   ]
  },
  {
   "cell_type": "code",
   "execution_count": 47,
   "metadata": {},
   "outputs": [],
   "source": [
    "# Get predictor variables and target variable from data\n",
    "\n",
    "X = df.drop('converted', axis=1)\n",
    "Y = df['converted']"
   ]
  },
  {
   "cell_type": "code",
   "execution_count": 48,
   "metadata": {},
   "outputs": [
    {
     "data": {
      "text/plain": [
       "array([[ 1.,  0.,  0.,  0.,  0.,  1.,  0., 25.,  1.,  1.],\n",
       "       [ 0.,  0.,  1.,  0.,  0.,  0.,  1., 23.,  1.,  5.],\n",
       "       [ 0.,  0.,  1.,  0.,  0.,  0.,  1., 28.,  1.,  4.],\n",
       "       [ 0.,  0.,  1.,  1.,  0.,  0.,  0., 39.,  1.,  5.],\n",
       "       [ 0.,  0.,  1.,  0.,  0.,  0.,  1., 30.,  1.,  6.]])"
      ]
     },
     "execution_count": 48,
     "metadata": {},
     "output_type": "execute_result"
    }
   ],
   "source": [
    "column_transform = make_column_transformer((ohe, ['source', 'country']), remainder='passthrough')\n",
    "column_transform.fit_transform(X)[:5]"
   ]
  },
  {
   "cell_type": "markdown",
   "metadata": {},
   "source": [
    "## 4. Build machine learning pipline"
   ]
  },
  {
   "cell_type": "code",
   "execution_count": 49,
   "metadata": {},
   "outputs": [
    {
     "name": "stdout",
     "output_type": "stream",
     "text": [
      "X_train_shape:  (221337, 5)\n",
      "Y_train_shape:  (221337,)\n",
      "X_test_shape:  (94860, 5)\n",
      "Y_test_shape:  (94860,)\n"
     ]
    }
   ],
   "source": [
    "# Create training/test set with a 70% split\n",
    "\n",
    "X_train, X_test, Y_train, Y_test = train_test_split(X, Y, test_size = 0.3, random_state=42)\n",
    "\n",
    "print(\"X_train_shape: \", X_train.shape)\n",
    "print(\"Y_train_shape: \", Y_train.shape)\n",
    "print(\"X_test_shape: \", X_test.shape)\n",
    "print(\"Y_test_shape: \", Y_test.shape)"
   ]
  },
  {
   "cell_type": "code",
   "execution_count": 113,
   "metadata": {},
   "outputs": [],
   "source": [
    "# Instantiate pipeline with random forest classifier\n",
    "\n",
    "rfm = RandomForestClassifier(oob_score=True)\n",
    "rfm_pipeline = make_pipeline(column_transform, rfm)\n",
    "rfm_pipeline.fit(X_train, Y_train)\n",
    "rfm_predictions = rfm_pipeline.predict(X_test)"
   ]
  },
  {
   "cell_type": "code",
   "execution_count": 161,
   "metadata": {},
   "outputs": [
    {
     "name": "stdout",
     "output_type": "stream",
     "text": [
      "OOB error is 0.01599822894500247\n",
      "test error is 0.015475437486822674\n"
     ]
    }
   ],
   "source": [
    "# OOB and test error.\n",
    "\n",
    "print('OOB error is', 1 - rfm.oob_score_)\n",
    "print('test error is', 1 - accuracy_score(Y_test, rfm_predictions))"
   ]
  },
  {
   "cell_type": "markdown",
   "metadata": {},
   "source": [
    "So, OOB error and test error are pretty similar: 1.6% and 1.5%. We are confident we are not overfitting.\n",
    "Error is pretty low. However, we started from a 97% accuracy (that’s the case if we classified everything\n",
    "as “non converted”). So, 98.5% is good, but nothing shocking. Indeed, 30% of conversions are predicted\n",
    "as “non conversion”."
   ]
  },
  {
   "cell_type": "code",
   "execution_count": 224,
   "metadata": {},
   "outputs": [
    {
     "name": "stdout",
     "output_type": "stream",
     "text": [
      "0.7367288378766141\n",
      "[[0.9628716  0.0054923 ]\n",
      " [0.00998313 0.02165296]]\n"
     ]
    }
   ],
   "source": [
    "print(f1_score(Y_test, rfm_predictions))\n",
    "print(confusion_matrix(Y_test, rfm_predictions, normalize='all'))"
   ]
  },
  {
   "cell_type": "code",
   "execution_count": 223,
   "metadata": {},
   "outputs": [
    {
     "data": {
      "image/png": "[encoded data removed]",
      "text/plain": [
       "<Figure size 576x432 with 1 Axes>"
      ]
     },
     "metadata": {
      "needs_background": "light"
     },
     "output_type": "display_data"
    }
   ],
   "source": [
    "fpr, tpr, _ = roc_curve(Y_test, rfm_predictions,pos_label=1)\n",
    "# test_auc = metrics.auc(fpr, tpr)\n",
    "# auc_val = np.trapz(tpr,fpr)\n",
    "\n",
    "# Print ROC curve\n",
    "fig, ax = plt.subplots(figsize=(8, 6))\n",
    "ax.plot(fpr, tpr, label = 'AUC: ' + str(np.round((roc_auc_score(Y_test, rfm_predictions)), 5)))\n",
    "ax.set_xlabel('False Positive Rate', fontsize=12)\n",
    "ax.set_ylabel('True Positive Rate', fontsize=12)\n",
    "ax.legend(fontsize=12)\n",
    "plt.show()"
   ]
  },
  {
   "cell_type": "markdown",
   "metadata": {},
   "source": [
    "The AUC score is a bit low which indicates that the model needs to be further refined."
   ]
  },
  {
   "cell_type": "markdown",
   "metadata": {},
   "source": [
    "### Variable importance"
   ]
  },
  {
   "cell_type": "code",
   "execution_count": 115,
   "metadata": {},
   "outputs": [],
   "source": [
    "test_result = permutation_importance(\n",
    "    rfm_pipeline, X_test, Y_test, n_repeats=10, random_state=42, n_jobs=-1\n",
    ")\n",
    "test_sortedidx = test_result.importances_mean.argsort()"
   ]
  },
  {
   "cell_type": "code",
   "execution_count": 116,
   "metadata": {},
   "outputs": [],
   "source": [
    "train_result = permutation_importance(\n",
    "    rfm_pipeline, X_train, Y_train, n_repeats=10, random_state=42, n_jobs=-1\n",
    ")\n",
    "train_sortedidx = train_result.importances_mean.argsort()"
   ]
  },
  {
   "cell_type": "code",
   "execution_count": 110,
   "metadata": {},
   "outputs": [],
   "source": [
    "test_importance = pd.DataFrame(test_result.importances[test_sortedidx].T)\n",
    "train_importance = pd.DataFrame(train_result.importances[train_sortedidx].T)"
   ]
  },
  {
   "cell_type": "code",
   "execution_count": 136,
   "metadata": {},
   "outputs": [],
   "source": [
    "# Normalize feature importance\n",
    "\n",
    "test_importance = pd.Series([test_importance[i].mean()/test_importance[4].mean() for i in range(5)])\n",
    "train_importance = pd.Series([train_importance[i].mean()/train_importance[4].mean() for i in range(5)])"
   ]
  },
  {
   "cell_type": "code",
   "execution_count": 138,
   "metadata": {},
   "outputs": [
    {
     "data": {
      "image/png": "[encoded data removed]",
      "text/plain": [
       "<Figure size 1296x432 with 2 Axes>"
      ]
     },
     "metadata": {
      "needs_background": "light"
     },
     "output_type": "display_data"
    }
   ],
   "source": [
    "# Permutation importances for both test and train sets. \n",
    "\n",
    "fig, ax = plt.subplots(nrows=1, ncols=2, figsize=(18, 6))\n",
    "test_importance.plot.barh(ax=ax[0])\n",
    "train_importance.plot.barh(ax=ax[1])\n",
    "ax[0].set_title(\"Permutation importances (test set)\", fontsize=16)\n",
    "ax[0].set_yticklabels(X_test.columns[test_sortedidx])\n",
    "ax[1].set_title(\"Permutation importances (train set)\", fontsize=16)\n",
    "ax[1].set_yticklabels(X_train.columns[train_sortedidx])\n",
    "plt.tight_layout()\n",
    "plt.show()"
   ]
  },
  {
   "cell_type": "markdown",
   "metadata": {},
   "source": [
    "For both train and test sets, total pages visited is the most important one. However, it is also directly related to the conversion rate which is not \"actionable\". For the test set, new user is more important than age while in the train set it is opposite.  "
   ]
  },
  {
   "cell_type": "markdown",
   "metadata": {},
   "source": [
    "### Model without \"total_pages_visited\""
   ]
  },
  {
   "cell_type": "code",
   "execution_count": 140,
   "metadata": {},
   "outputs": [],
   "source": [
    "X2 = df.drop(['converted','total_pages_visited'], axis=1)"
   ]
  },
  {
   "cell_type": "code",
   "execution_count": 147,
   "metadata": {},
   "outputs": [
    {
     "name": "stdout",
     "output_type": "stream",
     "text": [
      "X2_train_shape:  (221337, 4)\n",
      "Y2_train_shape:  (221337,)\n",
      "X2_test_shape:  (94860, 4)\n",
      "Y2_test_shape:  (94860,)\n"
     ]
    }
   ],
   "source": [
    "X2_train, X2_test, Y2_train, Y2_test = train_test_split(X2, Y, test_size = 0.3, random_state=42)\n",
    "\n",
    "print(\"X2_train_shape: \", X2_train.shape)\n",
    "print(\"Y2_train_shape: \", Y2_train.shape)\n",
    "print(\"X2_test_shape: \", X2_test.shape)\n",
    "print(\"Y2_test_shape: \", Y2_test.shape)"
   ]
  },
  {
   "cell_type": "code",
   "execution_count": 148,
   "metadata": {},
   "outputs": [],
   "source": [
    "# Instantiate pipeline with random forest classifier\n",
    "\n",
    "rfm2 = RandomForestClassifier(oob_score=True)\n",
    "rfm2_pipeline = make_pipeline(column_transform, rfm2)\n",
    "rfm2_pipeline.fit(X2_train, Y2_train)\n",
    "rfm2_predictions = rfm2_pipeline.predict(X2_test)"
   ]
  },
  {
   "cell_type": "code",
   "execution_count": 149,
   "metadata": {},
   "outputs": [
    {
     "name": "stdout",
     "output_type": "stream",
     "text": [
      "0.03251602759592842\n",
      "0.03163609529833433\n"
     ]
    }
   ],
   "source": [
    "print(1 - rfm2.oob_score_)\n",
    "print(1 - accuracy_score(Y2_test, rfm2_predictions))"
   ]
  },
  {
   "cell_type": "markdown",
   "metadata": {},
   "source": [
    "The accuracy drops as we neglect the feature \"total_pages_visited\"."
   ]
  },
  {
   "cell_type": "code",
   "execution_count": 150,
   "metadata": {},
   "outputs": [],
   "source": [
    "test2_result = permutation_importance(\n",
    "    rfm2_pipeline, X2_test, Y2_test, n_repeats=10, random_state=42, n_jobs=-1\n",
    ")\n",
    "test2_sortedidx = test2_result.importances_mean.argsort()\n",
    "\n",
    "train2_result = permutation_importance(\n",
    "    rfm2_pipeline, X2_train, Y2_train, n_repeats=10, random_state=42, n_jobs=-1\n",
    ")\n",
    "train2_sortedidx = train2_result.importances_mean.argsort()"
   ]
  },
  {
   "cell_type": "code",
   "execution_count": 159,
   "metadata": {},
   "outputs": [],
   "source": [
    "# test2_importance = pd.DataFrame(test2_result.importances[test2_sortedidx].T)\n",
    "# train2_importance = pd.DataFrame(train2_result.importances[train2_sortedidx].T)\n",
    "\n",
    "# Normalize feature importance\n",
    "\n",
    "# test2_importance = pd.Series([test2_importance[i].mean()/test2_importance[3].mean() for i in range(4)])\n",
    "# train2_importance = pd.Series([train2_importance[i].mean()/train2_importance[3].mean() for i in range(4)])"
   ]
  },
  {
   "cell_type": "markdown",
   "metadata": {},
   "source": [
    "The permutation importance does not work for this case cause the importances are zero (see below). It is better to use R or H2o to handle the catergorical feature for this problem. "
   ]
  },
  {
   "cell_type": "code",
   "execution_count": 156,
   "metadata": {},
   "outputs": [
    {
     "data": {
      "text/plain": [
       "{'importances_mean': array([0., 0., 0., 0.]),\n",
       " 'importances_std': array([0., 0., 0., 0.]),\n",
       " 'importances': array([[0., 0., 0., 0., 0., 0., 0., 0., 0., 0.],\n",
       "        [0., 0., 0., 0., 0., 0., 0., 0., 0., 0.],\n",
       "        [0., 0., 0., 0., 0., 0., 0., 0., 0., 0.],\n",
       "        [0., 0., 0., 0., 0., 0., 0., 0., 0., 0.]])}"
      ]
     },
     "execution_count": 156,
     "metadata": {},
     "output_type": "execute_result"
    }
   ],
   "source": [
    "test2_result"
   ]
  },
  {
   "cell_type": "code",
   "execution_count": 160,
   "metadata": {},
   "outputs": [
    {
     "data": {
      "image/png": "[encoded data removed]",
      "text/plain": [
       "<Figure size 432x288 with 1 Axes>"
      ]
     },
     "metadata": {
      "needs_background": "light"
     },
     "output_type": "display_data"
    }
   ],
   "source": [
    "importances = rfm2.feature_importances_\n",
    "\n",
    "forest_importances = pd.Series(importances)\n",
    "std = np.std([tree.feature_importances_ for tree in rfm2.estimators_], axis=0)\n",
    "\n",
    "fig, ax = plt.subplots()\n",
    "forest_importances.plot.barh(yerr=std, ax=ax)\n",
    "ax.set_title(\"Feature importances using MDI\")\n",
    "# ax.set_ylabel(\"Mean decrease in impurity\")\n",
    "fig.tight_layout()\n",
    "plt.show()"
   ]
  },
  {
   "cell_type": "markdown",
   "metadata": {},
   "source": [
    "Still, the feature_importance predicts that the most important one is the new_user (feature 8), so we learn that users with an old account are much better than new users. Then it is the age (7) or country (3-6) (again, we should use R or H2o to get a definite magnitude). The source (0-2) doesn't really matter. "
   ]
  },
  {
   "cell_type": "code",
   "execution_count": null,
   "metadata": {},
   "outputs": [],
   "source": []
  }
 ],
 "metadata": {
  "interpreter": {
   "hash": "4dd7b61bd20a2dd8a216762199d895c877245e26d7972026d58786b4b9c39df0"
  },
  "kernelspec": {
   "display_name": "Python 3.8.5 ('base')",
   "language": "python",
   "name": "python3"
  },
  "language_info": {
   "codemirror_mode": {
    "name": "ipython",
    "version": 3
   },
   "file_extension": ".py",
   "mimetype": "text/x-python",
   "name": "python",
   "nbconvert_exporter": "python",
   "pygments_lexer": "ipython3",
   "version": "3.8.5"
  },
  "orig_nbformat": 4
 },
 "nbformat": 4,
 "nbformat_minor": 2
}
